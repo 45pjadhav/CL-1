{
 "cells": [
  {
   "cell_type": "markdown",
   "id": "c13a7e93-a5bd-44ba-a330-000d91f2f193",
   "metadata": {},
   "source": [
    "# Title: Data Aggregation\n",
    "<b>Problem Statement:</b> Analyzing Sales Performance by Region in a Retail Company<br>\n",
    "<b>Dataset:</b> \"Retail_Sales_Data.csv\"<br>\n",
    "<b>Description:</b> The dataset contains information about sales transactions in a retail company. It\n",
    "includes attributes such as transaction date, product category, quantity sold, and sales\n",
    "amount. The goal is to perform data aggregation to analyze the sales performance by region\n",
    "and identify the top-performing regions.<br>\n",
    "\n",
    "<b>Tasks to Perform:</b>\n",
    "1. Import the \"Retail_Sales_Data.csv\" dataset.\n",
    "2. Explore the dataset to understand its structure and content.\n",
    "3. Identify the relevant variables for aggregating sales data, such as region, sales\n",
    "amount, and product category.\n",
    "4. Group the sales data by region and calculate the total sales amount for each region.\n",
    "5. Create bar plots or pie charts to visualize the sales distribution by region.\n",
    "6. Identify the top-performing regions based on the highest sales amount.\n",
    "7. Group the sales data by region and product category to calculate the total sales\n",
    "amount for each combination.\n",
    "8. Create stacked bar plots or grouped bar plots to compare the sales amounts across\n",
    "different regions and product categories."
   ]
  },
  {
   "cell_type": "code",
   "execution_count": null,
   "id": "8474dd40-d310-4ae1-88af-c7474eb6c667",
   "metadata": {},
   "outputs": [],
   "source": [
    "import pandas as pd\n",
    "import matplotlib.pyplot as plt\n",
    "import seaborn as sns"
   ]
  },
  {
   "cell_type": "markdown",
   "id": "9ef31f55-00d3-46e6-8015-3124351216b3",
   "metadata": {},
   "source": [
    "## Task 1. Import the \"Retail_Sales_Data.csv\" dataset"
   ]
  },
  {
   "cell_type": "code",
   "execution_count": null,
   "id": "97290d14-a88b-4024-96d2-65bb176a11ba",
   "metadata": {},
   "outputs": [],
   "source": [
    "file_path = 'datasets/customer_shopping_data.csv' # Use the correct file path\n",
    "sales_data = pd.read_csv(file_path)"
   ]
  },
  {
   "cell_type": "markdown",
   "id": "d52ff8a0-9329-4f9f-b761-39988997179c",
   "metadata": {},
   "source": [
    "## Task 2. Explore the dataset"
   ]
  },
  {
   "cell_type": "code",
   "execution_count": null,
   "id": "d21f6210-fd90-4865-94f3-0a040e502744",
   "metadata": {},
   "outputs": [],
   "source": [
    "sales_data.head() # View first few rows to understand structure"
   ]
  },
  {
   "cell_type": "code",
   "execution_count": null,
   "id": "d24b01fc-8dec-43f6-95c3-dbe133254c45",
   "metadata": {},
   "outputs": [],
   "source": [
    "sales_data.info() # Check data types and null values"
   ]
  },
  {
   "cell_type": "markdown",
   "id": "8719db55-f935-4f58-aef8-0593f19051a7",
   "metadata": {},
   "source": [
    "## Task 3. Identify the relevant variables"
   ]
  },
  {
   "cell_type": "code",
   "execution_count": null,
   "id": "76074afc-537e-4e3e-85cd-f5f58a1b413d",
   "metadata": {},
   "outputs": [],
   "source": [
    "relevant_columns = [\"shopping_mall\", \"price\", \"category\"]"
   ]
  },
  {
   "cell_type": "markdown",
   "id": "c8626aa3-daad-420c-ae9e-47d910321f3d",
   "metadata": {},
   "source": [
    "## Task 4. Group the sales data by region and calculate the total sales amount for each region"
   ]
  },
  {
   "cell_type": "code",
   "execution_count": null,
   "id": "28eb13ce-d590-4b11-9fbc-32144dd1b9ed",
   "metadata": {},
   "outputs": [],
   "source": [
    "sales_by_region = sales_data.groupby('shopping_mall')['price'].sum().reset_index()"
   ]
  },
  {
   "cell_type": "markdown",
   "id": "7db68789-c48e-44fa-babd-88516469f2aa",
   "metadata": {},
   "source": [
    "## Task 5. Create bar plots or pie charts to visualize the sales distribution by region"
   ]
  },
  {
   "cell_type": "code",
   "execution_count": null,
   "id": "7c699699-3703-4bd5-b8a6-8bd0f14ebec9",
   "metadata": {},
   "outputs": [],
   "source": [
    "# Bar plot\n",
    "plt.figure(figsize=(10, 6))\n",
    "sns.barplot(data=sales_by_region, x='shopping_mall', y='price')\n",
    "plt.title('Total Sales by Shopping Mall')\n",
    "plt.ylabel('Price')\n",
    "plt.xticks(rotation=45)\n",
    "plt.tight_layout()\n",
    "plt.show()"
   ]
  },
  {
   "cell_type": "code",
   "execution_count": null,
   "id": "4974da62-27d5-48dc-b361-6b1ee496b0a4",
   "metadata": {},
   "outputs": [],
   "source": [
    "# Pie chart\n",
    "plt.figure(figsize=(8, 8))\n",
    "plt.pie(sales_by_region['price'], labels=sales_by_region['shopping_mall'], autopct='%1.1f%%', startangle=140)\n",
    "plt.title('Sales Distribution by Shopping Mall')\n",
    "plt.show()"
   ]
  },
  {
   "cell_type": "markdown",
   "id": "72a397fd-41c7-4fdd-bdb9-8243ef722683",
   "metadata": {},
   "source": [
    "## Task 6. Identify the top-performing shopping mall based on the highest sales amount"
   ]
  },
  {
   "cell_type": "code",
   "execution_count": null,
   "id": "73543728-6783-4d8c-b3a6-8460a2d7355f",
   "metadata": {},
   "outputs": [],
   "source": [
    "top_regions = sales_by_region.sort_values(by='price', ascending=False)\n",
    "print(\"Top Performing Shopping Mall:\")\n",
    "print(top_regions)"
   ]
  },
  {
   "cell_type": "markdown",
   "id": "4c9e2737-4986-47b5-b409-3784cc3150aa",
   "metadata": {},
   "source": [
    "## Task 7. Group the sales data by region and product category to calculate the total sales amount for each combination"
   ]
  },
  {
   "cell_type": "code",
   "execution_count": null,
   "id": "a74183e6-6225-4b2d-a734-d62f8f747ba1",
   "metadata": {},
   "outputs": [],
   "source": [
    "sales_by_region_product = sales_data.groupby(['shopping_mall', 'category'])['price'].sum().reset_index()"
   ]
  },
  {
   "cell_type": "markdown",
   "id": "b14c67e6-cf11-478c-bbf8-779d6daf8ab3",
   "metadata": {},
   "source": [
    "## Task 8. Create stacked bar plots or grouped bar plots to compare the sales amounts across regions and product categories\n"
   ]
  },
  {
   "cell_type": "code",
   "execution_count": null,
   "id": "ff12bdb8-f448-4907-8231-d01762612043",
   "metadata": {},
   "outputs": [],
   "source": [
    "# Grouped bar plot\n",
    "plt.figure(figsize=(12, 6))\n",
    "sns.barplot(data=sales_by_region_product, x='shopping_mall', y='price', hue='category')\n",
    "plt.title('Sales by Shopping Mall and Category')\n",
    "plt.ylabel('Price')\n",
    "plt.xticks(rotation=45)\n",
    "plt.tight_layout()\n",
    "plt.show()"
   ]
  },
  {
   "cell_type": "code",
   "execution_count": null,
   "id": "1feb4b8f-9e13-45f3-9bff-64f349f7cbe7",
   "metadata": {},
   "outputs": [],
   "source": [
    "# Stacked bar plot (optional - requires pivoting data)\n",
    "pivot_data = sales_by_region_product.pivot(index='shopping_mall', columns='category', values='price')\n",
    "pivot_data.plot(kind='bar', stacked=True, figsize=(12, 6))\n",
    "plt.title('Stacked Sales by Shopping Mall and Category')\n",
    "plt.ylabel('Price')\n",
    "plt.xticks(rotation=45)\n",
    "plt.tight_layout()\n",
    "plt.show()"
   ]
  },
  {
   "cell_type": "code",
   "execution_count": null,
   "id": "d2b327d5-f803-452f-8152-cc59b7652e2d",
   "metadata": {},
   "outputs": [],
   "source": []
  }
 ],
 "metadata": {
  "kernelspec": {
   "display_name": "Python 3 (ipykernel)",
   "language": "python",
   "name": "python3"
  },
  "language_info": {
   "codemirror_mode": {
    "name": "ipython",
    "version": 3
   },
   "file_extension": ".py",
   "mimetype": "text/x-python",
   "name": "python",
   "nbconvert_exporter": "python",
   "pygments_lexer": "ipython3",
   "version": "3.12.7"
  }
 },
 "nbformat": 4,
 "nbformat_minor": 5
}
