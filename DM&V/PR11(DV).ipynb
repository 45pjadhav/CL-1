{
 "cells": [
  {
   "cell_type": "markdown",
   "id": "2b4fa387-42aa-4a65-9289-a7d993e67e53",
   "metadata": {},
   "source": [
    "# Title: Data Visualization using matplotlib \n",
    "\n",
    "<b>Problem Statement:</b> Analyzing Air Quality Index (AQI) Trends in a City  \n",
    "<b>Dataset:</b> \"City_Air_Quality.csv\"<br>\n",
    "<b>Description:</b> The dataset contains information about air quality measurements in a specific \n",
    "city over a period of time. It includes attributes such as date, time, pollutant levels (e.g., PM2.5, \n",
    "PM10, CO), and the Air Quality Index (AQI) values. The goal is to use the matplotlib library \n",
    "to create visualizations that effectively represent the AQI trends and patterns for different \n",
    "pollutants in the city.<br>\n",
    "<b>Tasks to Perform:</b>\n",
    "1.  Import the \"City_Air_Quality.csv\" dataset. \n",
    "2.  Explore the dataset to understand its structure and content. \n",
    "3. Identify the relevant variables for visualizing AQI trends, such as date, pollutant levels, \n",
    "and AQI values. \n",
    "4. Create line plots or time series plots to visualize the overall AQI trend over time. \n",
    "5. Plot individual pollutant levels (e.g., PM2.5, PM10, CO) on separate line plots to \n",
    "visualize their trends over time. \n",
    "6. Use bar plots or stacked bar plots to compare the AQI values across different dates or \n",
    "time periods. \n",
    "7. Create box plots or violin plots to analyze the distribution of AQI values for different \n",
    "pollutant categories. \n",
    "8. Use scatter plots or bubble charts to explore the relationship between AQI values and \n",
    "pollutant levels. \n",
    "9. Customize the visualizations by adding labels, titles, legends, and appropriate color \n",
    "schemes. "
   ]
  },
  {
   "cell_type": "code",
   "execution_count": null,
   "id": "c44ed1e6-5985-4172-ac75-76ee716c98f6",
   "metadata": {},
   "outputs": [],
   "source": [
    "import matplotlib.pyplot as plt\n",
    "import seaborn as sns\n",
    "import pandas as pd"
   ]
  },
  {
   "cell_type": "markdown",
   "id": "0e09bf04-144d-4082-96ef-595d48285a55",
   "metadata": {},
   "source": [
    "## Task 1. Import the \"City_Air_Quality.csv\" dataset."
   ]
  },
  {
   "cell_type": "code",
   "execution_count": null,
   "id": "ce54d8ab-f37c-4acf-9af3-5a2a4e8d77bb",
   "metadata": {},
   "outputs": [],
   "source": [
    "# Load the uploaded CSV file\n",
    "file_path = 'datasets/city_day.csv'\n",
    "data = pd.read_csv(file_path)\n",
    "\n",
    "# Display the first few rows and general information about the dataset\n",
    "data.head(), data.info()"
   ]
  },
  {
   "cell_type": "markdown",
   "id": "16f293f2-7b1f-4bd6-bf77-efb36bd8f617",
   "metadata": {},
   "source": [
    "## <b>Task 2. and 3.</b>  Explore the dataset and Identify the relevant variables "
   ]
  },
  {
   "cell_type": "code",
   "execution_count": null,
   "id": "c3d3468b-40ba-4746-b59b-8168466f151b",
   "metadata": {},
   "outputs": [],
   "source": [
    "# Convert 'Date' column to datetime format\n",
    "data['Date'] = pd.to_datetime(data['Date'], errors='coerce')\n",
    "\n",
    "# Check the percentage of missing values in each column to decide on handling strategy\n",
    "missing_percentage = data.isnull().mean() * 100\n",
    "missing_percentage.sort_values(ascending=False)"
   ]
  },
  {
   "cell_type": "markdown",
   "id": "1a95f22f-c446-48e3-afba-bc310fa2218a",
   "metadata": {},
   "source": [
    "## Remaning Task. Data Visualization"
   ]
  },
  {
   "cell_type": "code",
   "execution_count": null,
   "id": "893a86dc-73d1-4219-83f9-20b70fe0a651",
   "metadata": {},
   "outputs": [],
   "source": [
    "# Forward fill then backward fill to handle remaining missing values\n",
    "data = data.fillna(method='ffill').fillna(method='bfill')\n",
    "\n",
    "# Drop any rows with missing 'AQI' values as they are critical for analysis\n",
    "data = data.dropna(subset=['AQI'])\n",
    "\n",
    "# Verify that there are no missing values left\n",
    "print(data.isnull().sum())\n"
   ]
  },
  {
   "cell_type": "code",
   "execution_count": null,
   "id": "497404fc-2e82-49a9-b64e-8d6d5ec78bd9",
   "metadata": {},
   "outputs": [],
   "source": [
    "# Calculate average AQI by date\n",
    "aqi_trend = data.groupby('Date')['AQI'].mean()\n",
    "\n",
    "# Plot AQI trend over time\n",
    "plt.figure(figsize=(14, 6))\n",
    "plt.plot(aqi_trend.index, aqi_trend.values, label='Average AQI', color='blue')\n",
    "plt.xlabel('Date')\n",
    "plt.ylabel('AQI')\n",
    "plt.title('AQI Trend Over Time')\n",
    "plt.legend()\n",
    "plt.show()"
   ]
  },
  {
   "cell_type": "code",
   "execution_count": null,
   "id": "b2b7fc7a-e288-4e07-b061-82afaba32b06",
   "metadata": {},
   "outputs": [],
   "source": [
    "pollutants = ['PM2.5', 'PM10', 'CO']\n",
    "for pollutant in pollutants:\n",
    "    plt.figure(figsize=(14, 6))\n",
    "    pollutant_trend = data.groupby('Date')[pollutant].mean()\n",
    "    plt.plot(pollutant_trend.index, pollutant_trend.values, label=f'{pollutant} Levels', color='orange')\n",
    "    plt.xlabel('Date')\n",
    "    plt.ylabel(pollutant)\n",
    "    plt.title(f'{pollutant} Trend Over Time')\n",
    "    plt.legend()\n",
    "    plt.show()"
   ]
  },
  {
   "cell_type": "code",
   "execution_count": null,
   "id": "bd6ab05b-d2e4-4c53-9fa7-9cb92dc89b59",
   "metadata": {},
   "outputs": [],
   "source": [
    "plt.figure(figsize=(14, 6))\n",
    "sns.boxplot(x='AQI_Bucket', y='AQI', data=data, palette='Set3')\n",
    "plt.xlabel('AQI Category')\n",
    "plt.ylabel('AQI')\n",
    "plt.title('AQI Distribution by AQI Category')\n",
    "plt.show()"
   ]
  },
  {
   "cell_type": "code",
   "execution_count": null,
   "id": "4ecb94a2-e078-4506-9b06-e9c54b8ea259",
   "metadata": {},
   "outputs": [],
   "source": [
    "plt.figure(figsize=(10, 6))\n",
    "sns.scatterplot(x='PM2.5', y='AQI', data=data, hue='City', alpha=0.5, palette='viridis')\n",
    "plt.xlabel('PM2.5 Levels')\n",
    "plt.ylabel('AQI')\n",
    "plt.title('Relationship Between PM2.5 and AQI')\n",
    "plt.legend(bbox_to_anchor=(1, 1))\n",
    "plt.show()"
   ]
  },
  {
   "cell_type": "code",
   "execution_count": null,
   "id": "e1c53ce6-5edd-4eb3-bcbb-608f0a65b068",
   "metadata": {},
   "outputs": [],
   "source": []
  }
 ],
 "metadata": {
  "kernelspec": {
   "display_name": "Python 3 (ipykernel)",
   "language": "python",
   "name": "python3"
  },
  "language_info": {
   "codemirror_mode": {
    "name": "ipython",
    "version": 3
   },
   "file_extension": ".py",
   "mimetype": "text/x-python",
   "name": "python",
   "nbconvert_exporter": "python",
   "pygments_lexer": "ipython3",
   "version": "3.12.7"
  }
 },
 "nbformat": 4,
 "nbformat_minor": 5
}
