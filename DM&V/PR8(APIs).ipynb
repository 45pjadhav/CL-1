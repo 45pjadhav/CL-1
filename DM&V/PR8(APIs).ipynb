{
 "cells": [
  {
   "cell_type": "markdown",
   "id": "e8cddf76-b450-4fec-b3bb-998e1404c69b",
   "metadata": {},
   "source": [
    "# Title: Interacting with Web APIs"
   ]
  },
  {
   "cell_type": "markdown",
   "id": "37b9e011-1ce3-4f24-8c62-2f64f1092c89",
   "metadata": {},
   "source": [
    "<b>Problem Statement:</b> Analyzing Weather Data from OpenWeatherMap API<br>\n",
    "<b>Dataset:</b> Weather data retrieved from OpenWeatherMap API<br>\n",
    "<b>Description:</b> The goal is to interact with the OpenWeatherMap API to retrieve weather data for a specific location and perform data modeling and visualization to analyze weather patterns over time.<br>\n",
    "\n",
    "<b>Tasks to Perform:</b>\n",
    "1. Register and obtain API key from OpenWeatherMap.\n",
    "2. Interact with the OpenWeatherMap API using the API key to retrieve weather data for\n",
    "a specific location.\n",
    "3. Extract relevant weather attributes such as temperature, humidity, wind speed, and\n",
    "precipitation from the API response.\n",
    "4. Clean and preprocess the retrieved data, handling missing values or inconsistent\n",
    "formats.\n",
    "5. Perform data modeling to analyze weather patterns, such as calculating average\n",
    "temperature, maximum/minimum values, or trends over time.\n",
    "6. Visualize the weather data using appropriate plots, such as line charts, bar plots, or\n",
    "scatter plots, to represent temperature changes, precipitation levels, or wind speed\n",
    "variations.\n",
    "7. Apply data aggregation techniques to summarize weather statistics by specific time\n",
    "periods (e.g., daily, monthly, seasonal).\n",
    "8. Incorporate geographical information, if available, to create maps or geospatial\n",
    "visualizations representing weather patterns across different locations.\n",
    "9. Explore and visualize relationships between weather attributes, such as temperature\n",
    "and humidity, using correlation plots or heatmaps."
   ]
  },
  {
   "cell_type": "code",
   "execution_count": null,
   "id": "e3f032f5-8eed-4621-acb5-84b1b6ec4c3c",
   "metadata": {},
   "outputs": [],
   "source": [
    "import pandas as pd\n",
    "import numpy as np\n",
    "import matplotlib.pyplot as plt\n",
    "import seaborn as sns"
   ]
  },
  {
   "cell_type": "markdown",
   "id": "7fcf685c-cc20-4b4b-807a-acdb064548eb",
   "metadata": {},
   "source": [
    "## Task 1. Register and obtain API key from OpenWeatherMap.\n",
    "<b>Registred on weathermap api and generate api key</b>"
   ]
  },
  {
   "cell_type": "markdown",
   "id": "23664e00-2204-4df4-9acf-18d43710681d",
   "metadata": {},
   "source": [
    "## Task 2. Interact with the OpenWeatherMap API using the API key to retrieve weather data for a specific location."
   ]
  },
  {
   "cell_type": "code",
   "execution_count": null,
   "id": "5d279b22-e4d4-43c6-af0b-17fcc3e15e68",
   "metadata": {},
   "outputs": [],
   "source": [
    "import requests\n",
    "# Define the base URL for the API and your API key\n",
    "base_url = \"http://api.openweathermap.org/data/2.5/weather\"\n",
    "api_key = \"fb365aa6104829b44455572365ff3b4e\" # Replace this with your API key\n",
    "# Specify the city and country code (e.g., \"London, GB\")\n",
    "city = \"Nashik\"\n",
    "country_code = \"IN\"\n",
    "# Make the API request\n",
    "params = {\n",
    "\"q\": f\"{city},{country_code}\",\n",
    "\"appid\": api_key,\n",
    "\"units\": \"metric\" # Use 'metric' for temperature in Celsius\n",
    "}\n",
    "response = requests.get(base_url, params=params)\n",
    "if response.status_code == 200:\n",
    "    weather_data = response.json()\n",
    "    print(weather_data)\n",
    "else:\n",
    "    print(f\"Error fetching data: {response.status_code}\")"
   ]
  },
  {
   "cell_type": "markdown",
   "id": "7131d6bd-446a-410f-b2c2-89980f49212a",
   "metadata": {},
   "source": [
    "## Task 3. Extract relevant weather attributes"
   ]
  },
  {
   "cell_type": "code",
   "execution_count": null,
   "id": "c75b1586-41e0-46ff-9c3b-9193ed4c5b6b",
   "metadata": {},
   "outputs": [],
   "source": [
    "# Extract relevant data from the API response\n",
    "def extract_weather_data(data):\n",
    "    weather_info = {\n",
    "        \"city\": data[\"name\"],\n",
    "        \"country\": data[\"sys\"][\"country\"],\n",
    "        \"temperature\": data[\"main\"][\"temp\"],\n",
    "        \"humidity\": data[\"main\"][\"humidity\"],\n",
    "        \"wind_speed\": data[\"wind\"][\"speed\"],\n",
    "        \"precipitation\": data.get(\"rain\", {}).get(\"1h\", 0) # 1h is precipitation in the last 1 hour\n",
    "}\n",
    "    return weather_info\n",
    "\n",
    "# Display the extracted data\n",
    "weather_info = extract_weather_data(weather_data)\n",
    "print(weather_info)"
   ]
  },
  {
   "cell_type": "markdown",
   "id": "be125866-4c87-43eb-a402-8822631d6951",
   "metadata": {},
   "source": [
    "## Task 4. Clean and Preprocess the Retrieved Data"
   ]
  },
  {
   "cell_type": "code",
   "execution_count": null,
   "id": "42cf085e-682b-4d4b-9532-7949830c0704",
   "metadata": {},
   "outputs": [],
   "source": [
    "# Convert weather data into a Pandas DataFrame\n",
    "weather_df = pd.DataFrame([weather_info])\n",
    "\n",
    "# Handle missing values\n",
    "weather_df.fillna(0, inplace=True)\n",
    "\n",
    "# Ensure correct data types\n",
    "weather_df[\"temperature\"] = weather_df[\"temperature\"].astype(float)\n",
    "weather_df[\"humidity\"] = weather_df[\"humidity\"].astype(int)\n",
    "weather_df[\"wind_speed\"] = weather_df[\"wind_speed\"].astype(float)\n",
    "weather_df[\"precipitation\"] = weather_df[\"precipitation\"].astype(float)\n",
    "\n",
    "# Display cleaned data\n",
    "weather_df.head()"
   ]
  },
  {
   "cell_type": "markdown",
   "id": "4d5f7f26-53c0-4f75-986b-916751f7aac2",
   "metadata": {},
   "source": [
    "## Task 5. Perform Data Modeling to Analyze Weather Patterns"
   ]
  },
  {
   "cell_type": "code",
   "execution_count": null,
   "id": "c3c510ec-97bc-4fa7-bc2c-734c3f5138b3",
   "metadata": {},
   "outputs": [],
   "source": [
    "# Calculate basic statistics\n",
    "avg_temp = weather_df[\"temperature\"].mean()\n",
    "max_temp = weather_df[\"temperature\"].max()\n",
    "min_temp = weather_df[\"temperature\"].min()\n",
    "\n",
    "# Print the statistics\n",
    "print(f\"Average Temperature: {avg_temp:.2f} °C\")\n",
    "print(f\"Maximum Temperature: {max_temp:.2f} °C\")\n",
    "print(f\"Minimum Temperature: {min_temp:.2f} °C\")"
   ]
  },
  {
   "cell_type": "markdown",
   "id": "9a14d928-3d73-48b8-ae64-8f595ccaef39",
   "metadata": {},
   "source": [
    "## Task 6. Visualize the Weather Data"
   ]
  },
  {
   "cell_type": "code",
   "execution_count": null,
   "id": "d99893bb-de24-4a91-905a-b0e8d88e17e6",
   "metadata": {},
   "outputs": [],
   "source": [
    "# Create a line chart of temperature, humidity, and wind speed\n",
    "plt.figure(figsize=(10, 6))\n",
    "plt.plot(weather_df.index, weather_df[\"temperature\"], label=\"Temperature (°C)\", marker='o')\n",
    "plt.plot(weather_df.index, weather_df[\"humidity\"], label=\"Humidity (%)\", marker='o')\n",
    "plt.plot(weather_df.index, weather_df[\"wind_speed\"], label=\"Wind Speed (m/s)\", marker='o')\n",
    "plt.title(\"Weather Data for Nashik\")\n",
    "plt.xlabel(\"Time\")\n",
    "plt.ylabel(\"Values\")\n",
    "plt.legend()\n",
    "plt.grid(True)\n",
    "plt.show()"
   ]
  },
  {
   "cell_type": "code",
   "execution_count": null,
   "id": "de5b677d-c351-4166-8c4e-5b4a8bdb37ab",
   "metadata": {},
   "outputs": [],
   "source": [
    "# Bar plot for precipitation levels\n",
    "plt.figure(figsize=(8, 5))\n",
    "plt.bar(weather_df.index, weather_df[\"precipitation\"], color='blue')\n",
    "plt.title(\"Precipitation Levels in the Last Hour\")\n",
    "plt.xlabel(\"Time\")\n",
    "plt.ylabel(\"Precipitation (mm)\")\n",
    "plt.show()"
   ]
  },
  {
   "cell_type": "markdown",
   "id": "5ef8c524-12d5-41d4-b3fc-cf913bb5c814",
   "metadata": {},
   "source": [
    "## Task 7. Apply Data Aggregation Techniques"
   ]
  },
  {
   "cell_type": "code",
   "execution_count": null,
   "id": "8ffa02dc-09cc-48e0-815d-4a18f00280a5",
   "metadata": {},
   "outputs": [],
   "source": [
    "# Simulate weather data\n",
    "simulated_data = {\n",
    "    \"temperature\": np.random.uniform(15, 30, size=10),  # Random temperatures between 15 and 30°C\n",
    "    \"humidity\": np.random.randint(40, 100, size=10),    # Random humidity values between 40% and 100%\n",
    "    \"wind_speed\": np.random.uniform(1, 10, size=10),    # Random wind speed between 1 and 10 m/s\n",
    "    \"precipitation\": np.random.uniform(0, 10, size=10)  # Random precipitation in mm\n",
    "}\n",
    "\n",
    "# Create a DataFrame with 10 rows of weather data\n",
    "weather_df = pd.DataFrame(simulated_data)\n",
    "\n",
    "# Generate a date range for the weather data (10 dates from 2023-10-01 to 2023-10-10)\n",
    "dates = pd.date_range(start=\"2023-10-01\", end=\"2023-10-10\", freq=\"D\")\n",
    "\n",
    "# Assign the date range to the DataFrame, ensuring it matches the number of rows (10 rows)\n",
    "weather_df[\"date\"] = dates\n",
    "\n",
    "# Group by day and calculate daily averages (mean for temperature, wind_speed and sum for precipitation)\n",
    "daily_stats = weather_df.groupby(\"date\").agg({\n",
    "    \"temperature\": \"mean\",\n",
    "    \"humidity\": \"mean\",\n",
    "    \"precipitation\": \"sum\",\n",
    "    \"wind_speed\": \"mean\"\n",
    "}).reset_index()\n",
    "\n",
    "# Display the aggregated daily stats\n",
    "print(daily_stats)"
   ]
  },
  {
   "cell_type": "code",
   "execution_count": null,
   "id": "adac9991-466f-4bf2-a7a0-275c121e42b1",
   "metadata": {},
   "outputs": [],
   "source": [
    "# Plot daily temperature changes\n",
    "plt.figure(figsize=(10, 6))\n",
    "plt.plot(daily_stats[\"date\"], daily_stats[\"temperature\"], label=\"Average Temperature (°C)\", marker='o')\n",
    "plt.title(\"Daily Average Temperature\")\n",
    "plt.xlabel(\"Date\")\n",
    "plt.ylabel(\"Temperature (°C)\")\n",
    "plt.grid(True)\n",
    "plt.xticks(rotation=45)  # Rotate date labels for better visibility\n",
    "plt.tight_layout()  # Ensure everything fits in the plot area\n",
    "plt.show()"
   ]
  },
  {
   "cell_type": "markdown",
   "id": "35c50204-a1aa-488e-8e5c-7ba27b0bd50d",
   "metadata": {},
   "source": [
    "## Task 8. Incorporate Geographical Information"
   ]
  },
  {
   "cell_type": "code",
   "execution_count": null,
   "id": "21f06a7a-2a55-47b1-b57f-df7b33c40691",
   "metadata": {},
   "outputs": [],
   "source": [
    "!pip install folium"
   ]
  },
  {
   "cell_type": "code",
   "execution_count": null,
   "id": "b5e644fe-2eaa-4373-b082-2bd12516ffda",
   "metadata": {
    "scrolled": true
   },
   "outputs": [],
   "source": [
    "import folium      #!pip install folium\n",
    "import geocoder    #!pip install geocoder\n",
    "\n",
    "# Get current location based on IP address\n",
    "g = geocoder.ip('me')\n",
    "\n",
    "# Current Coordinates\n",
    "latitude = g.latlng[0]\n",
    "longitude = g.latlng[1]\n",
    "\n",
    "# Create a map centered around London\n",
    "m = folium.Map(location=[latitude, longitude], zoom_start=10)\n",
    "\n",
    "# Add weather marker with temperature\n",
    "popup_text = f\"Temperature: {weather_info['temperature']} °C\"\n",
    "folium.Marker([latitude, longitude], popup=popup_text).add_to(m)\n",
    "\n",
    "# Display the map\n",
    "m"
   ]
  },
  {
   "cell_type": "markdown",
   "id": "b4acae53-18f0-4d5d-b4db-995d81845c46",
   "metadata": {},
   "source": [
    "## Task 9. Explore and Visualize Relationships Between Weather Attributes"
   ]
  },
  {
   "cell_type": "code",
   "execution_count": null,
   "id": "53c593cb-e6ba-4a37-8a08-c8036793158f",
   "metadata": {},
   "outputs": [],
   "source": [
    "# Create a correlation matrix\n",
    "correlation_matrix = weather_df[[\"temperature\", \"humidity\", \"wind_speed\", \"precipitation\"]].corr()\n",
    "# Plot the heatmap\n",
    "plt.figure(figsize=(8, 6))\n",
    "sns.heatmap(correlation_matrix, annot=True, cmap=\"coolwarm\", vmin=-1, vmax=1)\n",
    "plt.title(\"Correlation between Weather Attributes\")\n",
    "plt.show()"
   ]
  },
  {
   "cell_type": "code",
   "execution_count": null,
   "id": "963be57f-82ec-4066-8cc2-4ce1459a192c",
   "metadata": {},
   "outputs": [],
   "source": []
  }
 ],
 "metadata": {
  "kernelspec": {
   "display_name": "Python 3 (ipykernel)",
   "language": "python",
   "name": "python3"
  },
  "language_info": {
   "codemirror_mode": {
    "name": "ipython",
    "version": 3
   },
   "file_extension": ".py",
   "mimetype": "text/x-python",
   "name": "python",
   "nbconvert_exporter": "python",
   "pygments_lexer": "ipython3",
   "version": "3.12.7"
  }
 },
 "nbformat": 4,
 "nbformat_minor": 5
}
