{
 "cells": [
  {
   "cell_type": "markdown",
   "id": "8c6c40cd-3bcc-4ebf-8499-0511012bd072",
   "metadata": {},
   "source": [
    "# Title: Data Loading, Storage and File Formats"
   ]
  },
  {
   "cell_type": "markdown",
   "id": "a3c039ac-24fa-4ec4-9b8b-01cdb70b1786",
   "metadata": {},
   "source": [
    "<b>Problem Statement:</b> Analyzing Sales Data from Multiple File Formats.<br>\n",
    "<b>Dataset:</b> Sales data in multiple file formats (e.g., CSV, Excel, JSON).<br>\n",
    "<b>Description:</b> The goal is to load and analyze sales data from different file formats, including CSV, Excel, and JSON, and perform data cleaning, transformation, and analysis on the dataset. "
   ]
  },
  {
   "cell_type": "markdown",
   "id": "ea8ed63a-b772-4342-9146-2428feb5b870",
   "metadata": {},
   "source": [
    "<b>Tasks to Perform:</b> \n",
    " Obtain sales data files in various formats, such as CSV, Excel, and JSON. \n",
    "1. Load the sales data from each file format into the appropriate data structures or \n",
    "dataframes. \n",
    "2. Explore the structure and content of the loaded data, identifying any inconsistencies, \n",
    "missing values, or data quality issues. \n",
    "3. Perform data cleaning operations, such as handling missing values, removing \n",
    "duplicates, or correcting inconsistencies. \n",
    "4. Convert the data into a unified format, such as a common dataframe or data structure, \n",
    "to enable seamless analysis. \n",
    "5. Perform data transformation tasks, such as merging multiple datasets, splitting \n",
    "columns, or deriving new variables. \n",
    "6. Analyze the sales data by performing descriptive statistics, aggregating data by \n",
    "specific variables, or calculating metrics such as total sales, average order value, or \n",
    "product category distribution. \n",
    "7. Create visualizations, such as bar plots, pie charts, or box plots, to represent the sales \n",
    "data and gain insights into sales trends, customer behavior, or product performance."
   ]
  },
  {
   "cell_type": "code",
   "execution_count": null,
   "id": "2156665e-8679-4eff-9b74-a516da07b3c4",
   "metadata": {},
   "outputs": [],
   "source": [
    "import pandas as pd\n",
    "import numpy as np\n",
    "import matplotlib.pyplot as plt\n",
    "import seaborn as sns"
   ]
  },
  {
   "cell_type": "markdown",
   "id": "802a3d59-9473-47b6-af97-580f08276c6b",
   "metadata": {},
   "source": [
    "## Task 1. Load the sales data from each file format into the appropriate data structures or dataframes."
   ]
  },
  {
   "cell_type": "code",
   "execution_count": null,
   "id": "44768e24-452a-406a-a49e-519daf4f77b5",
   "metadata": {},
   "outputs": [],
   "source": [
    "df1=pd.read_csv(\"datasets/sales_data_sample.csv\", encoding='ISO-8859-1')\n",
    "df2=pd.read_json(\"datasets/sales_data_sample.json\")\n",
    "df3=pd.read_excel(\"datasets/sales_data_sample.xlsx\")"
   ]
  },
  {
   "cell_type": "code",
   "execution_count": null,
   "id": "95fd32c9-dcf0-406b-89ec-fd566563b3cf",
   "metadata": {},
   "outputs": [],
   "source": [
    "df1.head() "
   ]
  },
  {
   "cell_type": "code",
   "execution_count": null,
   "id": "c3d6b6ba-89a6-4688-bc60-3944157e4612",
   "metadata": {},
   "outputs": [],
   "source": [
    "df2.head()"
   ]
  },
  {
   "cell_type": "code",
   "execution_count": null,
   "id": "4719f292-c2fe-47e0-ba49-b6575fb22a55",
   "metadata": {},
   "outputs": [],
   "source": [
    "df3.head()"
   ]
  },
  {
   "cell_type": "markdown",
   "id": "c5873e07-a6e6-43ff-8b19-ad4b605aa927",
   "metadata": {},
   "source": [
    "## Task 2. Explore the structure and content of the loaded data, identifying any inconsistencies, missing values, or data quality issues."
   ]
  },
  {
   "cell_type": "code",
   "execution_count": null,
   "id": "57b71654-1a95-4f85-8783-df31ee7e8df2",
   "metadata": {},
   "outputs": [],
   "source": [
    "df1.shape"
   ]
  },
  {
   "cell_type": "code",
   "execution_count": null,
   "id": "0017d97a-067f-4653-9948-c316d1cc1fdc",
   "metadata": {},
   "outputs": [],
   "source": [
    "df2.shape"
   ]
  },
  {
   "cell_type": "code",
   "execution_count": null,
   "id": "dfe3b7ba-6863-4a77-8563-e0c1ea4fee8e",
   "metadata": {},
   "outputs": [],
   "source": [
    "df3.shape"
   ]
  },
  {
   "cell_type": "markdown",
   "id": "f74b6bff-399c-4bbc-93cc-c34280fa1a3c",
   "metadata": {},
   "source": [
    "## Task 3. Perform data cleaning operations, such as handling missing values, removing duplicates, or correcting inconsistencies."
   ]
  },
  {
   "cell_type": "markdown",
   "id": "be419ef1-f3aa-4720-bdc1-b2b28b6da3e8",
   "metadata": {},
   "source": [
    "### For DataFrame 1 (df1) CSV"
   ]
  },
  {
   "cell_type": "code",
   "execution_count": null,
   "id": "54b4b17f-94a1-4e95-b4c0-a44d438a6643",
   "metadata": {},
   "outputs": [],
   "source": [
    "df1.isna().sum()"
   ]
  },
  {
   "cell_type": "code",
   "execution_count": null,
   "id": "3f9b013d-733f-49ca-a307-3ebafef4dfa1",
   "metadata": {},
   "outputs": [],
   "source": [
    "df1 = df1.drop(['ADDRESSLINE1','ADDRESSLINE2','CITY','STATE','TERRITORY'], axis = 1)"
   ]
  },
  {
   "cell_type": "code",
   "execution_count": null,
   "id": "478b0d01-c9ff-443f-b45e-dc3a2c7294c2",
   "metadata": {},
   "outputs": [],
   "source": [
    "#Filling all NA values with mode of the POSTALCODE column\n",
    "df1 = df1['POSTALCODE'].fillna(df1.POSTALCODE.mode())"
   ]
  },
  {
   "cell_type": "code",
   "execution_count": null,
   "id": "5ee30576-5cc1-4b32-8f48-5532a3e9359d",
   "metadata": {},
   "outputs": [],
   "source": [
    "df1.describe()"
   ]
  },
  {
   "cell_type": "markdown",
   "id": "f27fdbdf-1398-4fb8-b1b2-9c03cdbcc87f",
   "metadata": {
    "jp-MarkdownHeadingCollapsed": true
   },
   "source": [
    "### For DataFrame 2 (df2) JSON"
   ]
  },
  {
   "cell_type": "code",
   "execution_count": null,
   "id": "4248f264-1541-41f2-b050-7f02ebf6d4b4",
   "metadata": {},
   "outputs": [],
   "source": [
    "df2.isna().sum()"
   ]
  },
  {
   "cell_type": "code",
   "execution_count": null,
   "id": "a3921541-c270-4321-a414-991cff2df6b0",
   "metadata": {},
   "outputs": [],
   "source": [
    "df2 = df2.drop(['ADDRESSLINE1','ADDRESSLINE2','CITY','STATE','TERRITORY'], axis = 1)"
   ]
  },
  {
   "cell_type": "code",
   "execution_count": null,
   "id": "1b26abe9-1bb6-4f55-964d-4f65d727ec55",
   "metadata": {},
   "outputs": [],
   "source": [
    "df2 = df2['POSTALCODE'].fillna(df2.POSTALCODE.mode())"
   ]
  },
  {
   "cell_type": "code",
   "execution_count": null,
   "id": "828791fa-c341-4c6f-a138-5b8f8079245f",
   "metadata": {},
   "outputs": [],
   "source": [
    "df2.describe"
   ]
  },
  {
   "cell_type": "markdown",
   "id": "26f6bcfa-e261-4ef7-a1ca-86d085557d4d",
   "metadata": {
    "jp-MarkdownHeadingCollapsed": true
   },
   "source": [
    "### For DataFrame 3 (df2) XLSX"
   ]
  },
  {
   "cell_type": "code",
   "execution_count": null,
   "id": "f581c5da-9c35-4ff1-8d0e-6a9971eeb978",
   "metadata": {},
   "outputs": [],
   "source": [
    "df3.isna().sum()"
   ]
  },
  {
   "cell_type": "code",
   "execution_count": null,
   "id": "7e5e77f3-40a8-4b6e-884c-5e7d76545b4e",
   "metadata": {},
   "outputs": [],
   "source": [
    "df3 = df3.drop(['ADDRESSLINE1','ADDRESSLINE2','CITY','STATE','TERRITORY'], axis = 1)"
   ]
  },
  {
   "cell_type": "code",
   "execution_count": null,
   "id": "dba288bd-cf15-47fd-af71-9726c54f9fa2",
   "metadata": {},
   "outputs": [],
   "source": [
    "df3 = df3['POSTALCODE'].fillna(df3.POSTALCODE.mode())"
   ]
  },
  {
   "cell_type": "code",
   "execution_count": null,
   "id": "4b088636-165d-48b3-8c24-0e93b7b0ef3f",
   "metadata": {},
   "outputs": [],
   "source": [
    "df3.describe"
   ]
  },
  {
   "cell_type": "markdown",
   "id": "098fc663-2183-48f0-809d-1d2434930adc",
   "metadata": {},
   "source": [
    "## Task 4. Convert the data into a unified format, such as a common dataframe or data structure, to enable seamless analysis."
   ]
  },
  {
   "cell_type": "code",
   "execution_count": null,
   "id": "1d8b7411-1bb0-40ae-8ae2-5e66c5cd4efb",
   "metadata": {
    "scrolled": true
   },
   "outputs": [],
   "source": [
    "# Load the CSV file into a DataFrame\n",
    "df1 = pd.read_csv(\"datasets/sales_data_sample.csv\",encoding='ISO-8859-1')\n",
    "df2 = pd.read_json(\"datasets/sales_data_sample.json\")\n",
    "df3 = pd.read_excel(\"datasets/sales_data_sample.xlsx\")\n",
    "\n",
    "# Check the data types of columns\n",
    "data_types = df1.dtypes\n",
    "print(data_types)"
   ]
  },
  {
   "cell_type": "code",
   "execution_count": null,
   "id": "e6dd73b4-9b8c-494a-84c9-366d0af9e263",
   "metadata": {},
   "outputs": [],
   "source": [
    "unified_data = pd.concat([df1, df2, df3], ignore_index=True)\n",
    "unified_data.head()"
   ]
  },
  {
   "cell_type": "markdown",
   "id": "eb176d87-ac84-47db-a76e-b91872b55cdb",
   "metadata": {},
   "source": [
    "## Task 6. Analyze the sales data by performing descriptive statistics, aggregating data by specific variables, or calculating metrics such as total sales, average order value, or product category distribution. "
   ]
  },
  {
   "cell_type": "code",
   "execution_count": null,
   "id": "1c9a1b98-edc1-4f04-903e-e0f2fc1dc9b1",
   "metadata": {},
   "outputs": [],
   "source": [
    "#Calculating sum for sales column\n",
    "sum_sales_1 = df1['SALES'].sum()\n",
    "sum_sales_2 = df2['SALES'].sum()\n",
    "sum_sales_3 = df3['SALES'].sum()\n",
    "print(\"Addition of all sales\",sum_sales_1)\n",
    "print(\"Addition of all sales\",sum_sales_2)\n",
    "print(\"Addition of all sales\",sum_sales_3)"
   ]
  },
  {
   "cell_type": "code",
   "execution_count": null,
   "id": "a1d43468-1ed9-4546-a238-ea0272b80315",
   "metadata": {},
   "outputs": [],
   "source": [
    "#Calulating average for sales column\n",
    "sales_avg_1 = df1['SALES'].mean()\n",
    "sales_avg_2 = df2['SALES'].mean()\n",
    "sales_avg_3 = df3['SALES'].mean()\n",
    "print(\"Average of total sales = \",sales_avg_1)\n",
    "print(\"Average of total sales = \",sales_avg_2)\n",
    "print(\"Average of total sales = \",sales_avg_3)"
   ]
  },
  {
   "cell_type": "markdown",
   "id": "08fde48f-a1c4-4df0-bbb8-74afa9b108ec",
   "metadata": {},
   "source": [
    "## Task 7.  Create visualizations, such as bar plots, pie charts, or box plots, to represent the sales data and gain insights into sales trends, customer behavior, or product performance."
   ]
  },
  {
   "cell_type": "code",
   "execution_count": null,
   "id": "98bb6f73-6581-4c3b-8ad1-bf0351492ca4",
   "metadata": {},
   "outputs": [],
   "source": [
    "sns.histplot(x='STATUS', data=df1)\n",
    "plt.show()"
   ]
  },
  {
   "cell_type": "code",
   "execution_count": null,
   "id": "4b53abba-6a9b-452a-84b2-50fb6c5ac9e8",
   "metadata": {},
   "outputs": [],
   "source": [
    "sns.histplot(x='STATUS', data=df2)\n",
    "plt.show()"
   ]
  },
  {
   "cell_type": "code",
   "execution_count": null,
   "id": "5e2529ef-5125-4f06-82bd-b668fbe3bbc4",
   "metadata": {},
   "outputs": [],
   "source": [
    "sns.histplot(x='STATUS', data=df3)\n",
    "plt.show()"
   ]
  },
  {
   "cell_type": "code",
   "execution_count": null,
   "id": "c7bd07a0-4223-47dc-a9dc-d2ee57dc580b",
   "metadata": {},
   "outputs": [],
   "source": []
  }
 ],
 "metadata": {
  "kernelspec": {
   "display_name": "Python 3 (ipykernel)",
   "language": "python",
   "name": "python3"
  },
  "language_info": {
   "codemirror_mode": {
    "name": "ipython",
    "version": 3
   },
   "file_extension": ".py",
   "mimetype": "text/x-python",
   "name": "python",
   "nbconvert_exporter": "python",
   "pygments_lexer": "ipython3",
   "version": "3.12.7"
  }
 },
 "nbformat": 4,
 "nbformat_minor": 5
}
