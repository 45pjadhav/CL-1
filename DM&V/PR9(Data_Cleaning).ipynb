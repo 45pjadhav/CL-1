{
 "cells": [
  {
   "cell_type": "markdown",
   "id": "af41e35d-51db-43f2-93c5-70dd07fd3148",
   "metadata": {},
   "source": [
    "# Title: Data Cleaning and Preparation\n",
    "<b>Problem Statement:</b> Analyzing Customer Churn in a Telecommunications Company<br>\n",
    "<b>Dataset:</b> \"Telecom_Customer_Churn.csv\"<br>\n",
    "<b>Description:</b> The dataset contains information about customers of a telecommunications company and whether they have churned (i.e., discontinued their services). The dataset includes various attributes of the customers, such as their demographics, usage patterns, and account information. The goal is to perform data cleaning and preparation to gain insights into the factors that contribute to customer churn.<br>\n",
    "\n",
    "<b>Tasks to Perform:</b>\n",
    "1. Import the \"Telecom_Customer_Churn.csv\" dataset.\n",
    "2. Explore the dataset to understand its structure and content.\n",
    "3. Handle missing values in the dataset, deciding on an appropriate strategy.\n",
    "4. Remove any duplicate records from the dataset.\n",
    "5. Check for inconsistent data, such as inconsistent formatting or spelling variations,\n",
    "and standardize it.\n",
    "6. Convert columns to the correct data types as needed.\n",
    "7. Identify and handle outliers in the data.\n",
    "8. Perform feature engineering, creating new features that may be relevant to\n",
    "predicting customer churn.\n",
    "9. Normalize or scale the data if necessary."
   ]
  },
  {
   "cell_type": "code",
   "execution_count": null,
   "id": "1f71bb1c-3b78-45b5-8ff2-c60d0e040f5b",
   "metadata": {},
   "outputs": [],
   "source": [
    "import pandas as pd\n",
    "import seaborn as sns\n",
    "import matplotlib.pyplot as plt\n",
    "from sklearn.model_selection import train_test_split\n",
    "from sklearn.preprocessing import StandardScaler"
   ]
  },
  {
   "cell_type": "markdown",
   "id": "833fc7ad-8842-4ceb-96a0-3bd3cddd42f2",
   "metadata": {},
   "source": [
    "## Task 1. Import the \"Telecom_Customer_Churn.csv\" dataset."
   ]
  },
  {
   "cell_type": "code",
   "execution_count": null,
   "id": "f4f36ea1-41c4-4811-8c64-55b035a99877",
   "metadata": {},
   "outputs": [],
   "source": [
    "data = pd.read_csv(\"datasets/Telcom_Customer_Churn.csv\")\n",
    "data.index"
   ]
  },
  {
   "cell_type": "markdown",
   "id": "a3b3f405-bc28-40ac-b96d-ea1d885e859e",
   "metadata": {},
   "source": [
    "## Task 2. Explore the dataset to understand its structure and content."
   ]
  },
  {
   "cell_type": "code",
   "execution_count": null,
   "id": "adfe5939-1440-4950-a496-683d49b56802",
   "metadata": {},
   "outputs": [],
   "source": [
    "data.info()"
   ]
  },
  {
   "cell_type": "code",
   "execution_count": null,
   "id": "b77ad563-4e88-4865-9422-11eef633c411",
   "metadata": {},
   "outputs": [],
   "source": [
    "data.head()"
   ]
  },
  {
   "cell_type": "markdown",
   "id": "a100f814-24e4-447d-bc94-ffdb2571db21",
   "metadata": {},
   "source": [
    "## Task 3. Handle missing values in the dataset, deciding on an appropriate strategy"
   ]
  },
  {
   "cell_type": "code",
   "execution_count": null,
   "id": "71e70dc1-7e0c-4242-af48-c51183869620",
   "metadata": {},
   "outputs": [],
   "source": [
    "# Convert 'TotalCharges' to numeric, forcing errors to NaN\n",
    "data['TotalCharges'] = pd.to_numeric(data['TotalCharges'], errors='coerce')"
   ]
  },
  {
   "cell_type": "code",
   "execution_count": null,
   "id": "9ba6a6f4-628f-4208-8397-1529276b3615",
   "metadata": {},
   "outputs": [],
   "source": [
    "# Check for missing values\n",
    "print(\"\\nMissing values before handling:\")\n",
    "print(data.isnull().sum())"
   ]
  },
  {
   "cell_type": "code",
   "execution_count": null,
   "id": "b9e76732-6928-4b94-b66b-b83ced1eca03",
   "metadata": {},
   "outputs": [],
   "source": [
    "# Handle missing values in 'TotalCharges' by dropping rows where 'TotalCharges' is NaN\n",
    "data = data.dropna(subset=['TotalCharges'])"
   ]
  },
  {
   "cell_type": "markdown",
   "id": "be55498d-a54d-46ca-9541-0e77f3b3d6ee",
   "metadata": {},
   "source": [
    "## Task 4.  Remove any duplicate records from the dataset"
   ]
  },
  {
   "cell_type": "code",
   "execution_count": null,
   "id": "b2391068-1e9e-45de-b577-338a7f298a30",
   "metadata": {},
   "outputs": [],
   "source": [
    "data = data.drop_duplicates()"
   ]
  },
  {
   "cell_type": "markdown",
   "id": "ac3e827e-5e2e-4563-8e87-0fe64449c6a7",
   "metadata": {},
   "source": [
    "## Task 5.  Check for inconsistent data, such as inconsistent formatting or spelling variations, and standardize it."
   ]
  },
  {
   "cell_type": "code",
   "execution_count": null,
   "id": "8510d042-0ce9-4049-bffe-e3e1f3282571",
   "metadata": {},
   "outputs": [],
   "source": [
    "# Check unique values in categorical columns\n",
    "categorical_cols = ['gender', 'Partner', 'Dependents', 'PhoneService',\n",
    "                    'MultipleLines', 'InternetService', 'OnlineSecurity',\n",
    "                    'OnlineBackup','DeviceProtection', 'TechSupport', \n",
    "                    'StreamingTV', 'StreamingMovies','Contract', \n",
    "                    'PaperlessBilling', 'PaymentMethod', 'Churn']\n",
    "\n",
    "for col in categorical_cols:\n",
    "    print(f\"Unique values in {col}: {data[col].unique()}\")"
   ]
  },
  {
   "cell_type": "markdown",
   "id": "19ae14ab-6a93-49d7-92b4-3d2a160fb2d7",
   "metadata": {},
   "source": [
    "## Task 6. Convert columns to the correct data types as needed"
   ]
  },
  {
   "cell_type": "code",
   "execution_count": null,
   "id": "327c37b2-6f73-47b3-99ed-9263336977de",
   "metadata": {},
   "outputs": [],
   "source": [
    "# Assuming 'SeniorCitizen' is categorical, not numeric\n",
    "data['SeniorCitizen'] = data['SeniorCitizen'].astype('category')"
   ]
  },
  {
   "cell_type": "markdown",
   "id": "ab69cb31-0dd8-4473-af91-126ad3d6e4d7",
   "metadata": {},
   "source": [
    "## Task 7. Identify and handle outliers in the data."
   ]
  },
  {
   "cell_type": "code",
   "execution_count": null,
   "id": "8b4facff-8755-4a9a-80d9-b9e2cfd5e15d",
   "metadata": {},
   "outputs": [],
   "source": [
    " # Example: Visualize outliers in MonthlyCharges\n",
    "plt.figure(figsize=(10, 6))\n",
    "sns.boxplot(x=data['MonthlyCharges'])\n",
    "plt.title('Outliers in MonthlyCharges')\n",
    "plt.show()"
   ]
  },
  {
   "cell_type": "markdown",
   "id": "fd218f0c-121c-466c-8fa4-f846db9efc8b",
   "metadata": {},
   "source": [
    "## Task 8. Perform feature engineering, creating new features that may be relevant to predicting customer churn."
   ]
  },
  {
   "cell_type": "code",
   "execution_count": null,
   "id": "9d1f23b7-bcda-429f-82b5-6d889ebd378e",
   "metadata": {},
   "outputs": [],
   "source": [
    "#Create a new feature for tenure in years\n",
    "data['Tenure_Years'] = data['tenure'] / 12"
   ]
  },
  {
   "cell_type": "markdown",
   "id": "6aee93c4-b856-4218-851f-d2afd2063e2e",
   "metadata": {},
   "source": [
    "## Task 9. Normalize or scale the data if necessary"
   ]
  },
  {
   "cell_type": "code",
   "execution_count": null,
   "id": "62d854dd-caf7-47a2-82b5-767ed933f8f8",
   "metadata": {},
   "outputs": [],
   "source": [
    "scaler = StandardScaler()\n",
    "data[['MonthlyCharges', 'TotalCharges']] = scaler.fit_transform(data[['MonthlyCharges', 'TotalCharges']])\n",
    "\n",
    "# Split the dataset into training and testing sets for further analysis\n",
    "X = data.drop(columns=['Churn', 'customerID']) # Dropping target and ID columns\n",
    "y = data['Churn'] # Target variable\n",
    "X_train, X_test, y_train, y_test = train_test_split(X, y, test_size=0.2, random_state=42)"
   ]
  },
  {
   "cell_type": "code",
   "execution_count": null,
   "id": "954c338c-d6ac-41b2-b042-401e1b6cf98e",
   "metadata": {},
   "outputs": [],
   "source": [
    "# Export the cleaned dataset for future analysis\n",
    "data.to_csv(\"datasets/Cleaned_Telecom_Customer_Churn1.csv\", index=False)"
   ]
  },
  {
   "cell_type": "code",
   "execution_count": null,
   "id": "1d0a186e-8d54-42d1-bcf7-36d72976ae71",
   "metadata": {},
   "outputs": [],
   "source": []
  }
 ],
 "metadata": {
  "kernelspec": {
   "display_name": "Python 3 (ipykernel)",
   "language": "python",
   "name": "python3"
  },
  "language_info": {
   "codemirror_mode": {
    "name": "ipython",
    "version": 3
   },
   "file_extension": ".py",
   "mimetype": "text/x-python",
   "name": "python",
   "nbconvert_exporter": "python",
   "pygments_lexer": "ipython3",
   "version": "3.12.7"
  }
 },
 "nbformat": 4,
 "nbformat_minor": 5
}
